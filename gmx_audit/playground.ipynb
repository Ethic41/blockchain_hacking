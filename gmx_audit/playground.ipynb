{
 "cells": [
  {
   "cell_type": "code",
   "execution_count": 1,
   "metadata": {},
   "outputs": [],
   "source": [
    "#!/usr/bin/env python\n",
    "# -=-<[ Bismillahirrahmanirrahim ]>-=-\n",
    "# -*- coding: utf-8 -*-\n",
    "# @Date    : 2023-02-16 18:18:09\n",
    "# @Author  : Dahir Muhammad Dahir (dahirmuhammad3@gmail.com)\n",
    "# @Link    : link\n",
    "# @Version : 1.0.0\n",
    "\n",
    "\n",
    "from web3 import Web3\n",
    "from os import getenv\n",
    "\n",
    "g_net = Web3(Web3.HTTPProvider(\"https://rpc.ankr.com/eth_goerli\"))\n",
    "\n",
    "g_net.isConnected()\n",
    "\n",
    "net = g_net.eth\n",
    "\n",
    "my_address = getenv(\"pb_key\")\n",
    "key = getenv(\"pv_key\")\n",
    "\n",
    "def nonce():\n",
    "    return net.get_transaction_count(my_address)\n",
    "\n",
    "\n",
    "def sign_txn(txn):\n",
    "    return net.account.sign_transaction(txn, key)\n",
    "    \n",
    "\n",
    "def send_raw_txn(signed_txn):\n",
    "    return net.send_raw_transaction(signed_txn.rawTransaction)\n",
    "\n"
   ]
  },
  {
   "cell_type": "code",
   "execution_count": 4,
   "metadata": {},
   "outputs": [
    {
     "data": {
      "text/plain": [
       "HexBytes('0x2172861495e7b85edac73e3cd5fbb42dd675baadf627720e687bcfdaca025096')"
      ]
     },
     "execution_count": 4,
     "metadata": {},
     "output_type": "execute_result"
    }
   ],
   "source": [
    "g_net.keccak(text=\"ROLE_ADMIN\")"
   ]
  },
  {
   "cell_type": "code",
   "execution_count": null,
   "metadata": {},
   "outputs": [],
   "source": []
  }
 ],
 "metadata": {
  "kernelspec": {
   "display_name": "Python 3",
   "language": "python",
   "name": "python3"
  },
  "language_info": {
   "codemirror_mode": {
    "name": "ipython",
    "version": 3
   },
   "file_extension": ".py",
   "mimetype": "text/x-python",
   "name": "python",
   "nbconvert_exporter": "python",
   "pygments_lexer": "ipython3",
   "version": "3.10.6 (main, Nov 14 2022, 16:10:14) [GCC 11.3.0]"
  },
  "orig_nbformat": 4,
  "vscode": {
   "interpreter": {
    "hash": "916dbcbb3f70747c44a77c7bcd40155683ae19c65e1c03b4aa3499c5328201f1"
   }
  }
 },
 "nbformat": 4,
 "nbformat_minor": 2
}
